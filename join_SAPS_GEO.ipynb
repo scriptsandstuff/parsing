{
 "cells": [
  {
   "cell_type": "code",
   "execution_count": null,
   "metadata": {},
   "outputs": [],
   "source": [
    "import pandas as pd\n",
    "import geopandas as gpd\n",
    "# trim the unnecessary columns from SAPS cause we might have to load this file a few times\n",
    "df_saps = pd.read_csv(\"SAPS2016_ED3409.csv\")\n",
    "df_saps = df_saps[['GUID', 'GEOGID', 'GEOGDESC', 'T1_1AGETT']]\n",
    "# df.to_csv(\"2016_SAPS_essential.csv\", index=False)\n",
    "# df_saps = pd.read_csv(\"2016_SAPS_essential.csv\") #, encoding='utf_8')\n",
    "\n",
    "# df_tl = gpd.read_file(f\"zip://eds_from_townlands_ie.zip\") # wtf ed in N.I.\n",
    "# df = gpd.read_file(\"Electoral_Districts_Boundaries_Ungeneralised__OSi_National_Statutory_Boundaries.geojson\") # len = 3441\n",
    "df = gpd.read_file(\"Electoral_Divisions__CSO_Ungeneralised.geojson\")\n",
    "\n",
    "print( \"SAPS length:\\t\", len(df_saps.index))\n",
    "print( \"geom length:\\t\", len(df.index) )\n",
    "# print(df_eds.head(1))\n",
    "display(df.head())\n",
    "df_saps.head()"
   ]
  },
  {
   "cell_type": "code",
   "execution_count": null,
   "metadata": {},
   "outputs": [],
   "source": [
    "df.columns"
   ]
  },
  {
   "cell_type": "code",
   "execution_count": null,
   "metadata": {},
   "outputs": [],
   "source": [
    "df_joined = df.join(df_saps.set_index('GUID'), on='GUID_')"
   ]
  },
  {
   "cell_type": "code",
   "execution_count": null,
   "metadata": {},
   "outputs": [],
   "source": [
    "len(df_joined.index)"
   ]
  },
  {
   "cell_type": "code",
   "execution_count": null,
   "metadata": {},
   "outputs": [],
   "source": [
    "\n",
    "# df_eds = df[['ED_ID', 'ED_ENGLISH', 'COUNTY', 'GEOMETRY']].copy()\n",
    "df_joined[\"Constituency_by_Act_2017\"] = \"\"\n",
    "# df = df.append('Act2017', ignore_index = True) # ignoring index is optional\n"
   ]
  },
  {
   "cell_type": "code",
   "execution_count": null,
   "metadata": {},
   "outputs": [],
   "source": [
    "df_joined.columns"
   ]
  },
  {
   "cell_type": "code",
   "execution_count": null,
   "metadata": {},
   "outputs": [],
   "source": [
    "df_joined[[\"ED_ENGLISH\", 'CSOED_3409_LABEL', 'GEOGDESC']].head()"
   ]
  },
  {
   "cell_type": "code",
   "execution_count": null,
   "metadata": {},
   "outputs": [],
   "source": [
    "df_joined.to_file(\"SAPS2017_v1.geojson\", driver='GeoJSON')"
   ]
  },
  {
   "cell_type": "code",
   "execution_count": null,
   "metadata": {},
   "outputs": [],
   "source": [
    "# df.drop()\n",
    "# could drop a few columns but  the saving here is very small"
   ]
  },
  {
   "cell_type": "code",
   "execution_count": null,
   "metadata": {},
   "outputs": [],
   "source": []
  }
 ],
 "metadata": {
  "kernelspec": {
   "display_name": "Python 3",
   "language": "python",
   "name": "python3"
  },
  "language_info": {
   "codemirror_mode": {
    "name": "ipython",
    "version": 3
   },
   "file_extension": ".py",
   "mimetype": "text/x-python",
   "name": "python",
   "nbconvert_exporter": "python",
   "pygments_lexer": "ipython3",
   "version": "3.7.2rc1"
  }
 },
 "nbformat": 4,
 "nbformat_minor": 2
}
