{
 "cells": [
  {
   "cell_type": "markdown",
   "metadata": {},
   "source": [
    "* # We need to know when how electoral divisions have changed\n",
    "* # Are they all in County and City council records or where?\n",
    "* # When former districts are refered to is it the $1925$ districts, the pool law districts? ..."
   ]
  },
  {
   "cell_type": "markdown",
   "metadata": {},
   "source": [
    "# Preparations\n",
    "Undoubtedly there are python libraries that will succussfully extract the text from the schedule. I didn't find them or perhaps just didn't find the commands to operate them successfully\n",
    "## tabula\n",
    "java package kind of working\n",
    "## ghostscript\n",
    "here is a blast from the past\n",
    "## pdftk\n",
    "not in repo; needs gcj\n",
    ">## docker\n",
    "There are probably a few ways to drive pdftk without gcj running natively. I took the opportunity to use docker.io, as much as anything, just so I could say I had used it. \n"
   ]
  },
  {
   "cell_type": "markdown",
   "metadata": {},
   "source": [
    "[Markdown cheetsheet](https://github.com/adam-p/markdown-here/wiki/Markdown-Cheatsheet)\n",
    "\n",
    "```bash\n",
    "java -jar tabula.jar -n -p all -f TSV -o '2017-12-23--39-electoral-amendment-dail-cons.pdf' '2017-NEW.csv'\n",
    "```"
   ]
  },
  {
   "cell_type": "markdown",
   "metadata": {},
   "source": [
    "# tabula\n",
    "## why tabula\n",
    "* There is a gui and an api so we can tune the extraction visually.\n",
    "* The gui automatically grabbed only the table; some tools grabbed everything.\n",
    "\n",
    "Follow the instructions for [tabula](https://github.com/tabulapdf/tabula).\n",
    "\n",
    "Run the GUI and open the browser at [http://127.0.0.1:8080/](\"\")\n",
    "```bash\n",
    "foo@bar:~$ $ java -jar tabula.jar\n",
    "```"
   ]
  },
  {
   "cell_type": "markdown",
   "metadata": {},
   "source": [
    "Auto-detect tables. Observe the highlighted areas cover the table and only the table. Press 'Preview and export extracted data'. Doesn't look great. On left press 'Lattice'. Looks much better but lots of the table is missing. The 'Lattice' option looks for boundary lines. Notice that there are no boundary lines at the bottom of the pages and that the missing pieces of the table match the final, unclosed cell on each page.\n",
    "\n",
    "We could maybe try to find or create an option in tabula to include the unclosed cells or we could close the cells and see if that works. \n",
    "\n",
    "Let's try closing the cells by stamping a horizontal rule at the bottom of each page."
   ]
  },
  {
   "cell_type": "markdown",
   "metadata": {},
   "source": [
    "# ghostscript\n",
    "We us ghostscript to create a A4 size .pdf file that we'll use to stamp on the act.\n",
    "\n",
    "We inspect the tabula tempelate and see ...\n",
    "\n",
    "```console\n",
    ":~$ gs -o line.pdf  -sDEVICE=pdfwrite -g5950x8420  -sPAPERSIZE=a4  -c \"newpath 84 126 moveto 510 126 lineto 0 setgray gsave 2 setlinewidth stroke showpage\"\n",
    "```"
   ]
  },
  {
   "cell_type": "markdown",
   "metadata": {},
   "source": [
    "# pdftk\n",
    "[examples](https://www.pdflabs.com/docs/pdftk-cli-examples/)\n",
    "\n",
    "[man-page](https://www.pdflabs.com/docs/pdftk-man-page/)\n",
    "\n",
    "pdftk requires gcj and neither are in the debian repos any longer; let's look into using docker.\n",
    "> ## docker\n",
    "should really find the link for the instructions I followed...\n",
    "```console\n",
    ":~$ sudo apt install docker.io\n",
    ":~$ sudo docker run -it ubuntu:16.04 bash\n",
    "```\n",
    "follow post install instructions [here](https://docs.docker.com/install/linux/linux-postinstall/)\n",
    "\n",
    "> In the docker shell:\n",
    ">>```console\n",
    ":~# apt update\n",
    ":~# apt install pdftk\n",
    "```\n",
    "\n",
    ">```console\n",
    ":~$ sudo docker ps -a\n",
    ":~$ sudo docker commit #your_ID ubuntu_pdftk\n",
    "```\n",
    "```console\n",
    ":~$ sudo touch /usr/bin/pdftk\n",
    ":~$ sudo nano /usr/bin/pdftk\n",
    "```\n",
    ">> ```console\n",
    "#!/bin/sh\n",
    "set -eu\n",
    "docker run --name pdftk -it -v \"$PWD:/workdir$PWD\" -w \"/workdir$PWD\" ubuntu_pdftk pdftk $\n",
    "docker rm pdftk\n",
    "```\n",
    "#### notice that the -it flag must be removed to run the command from python \n",
    "\n",
    ">```console\n",
    ":~$ sudo chmod +x /usr/bin/pdftk\n",
    "```\n",
    "\n",
    "\n",
    "With pdftk operational\n",
    "```console\n",
    ":~$ sudo pdftk Act2017.pdf stamp line.pdf output Act2017_stamped.pdf\n",
    "```\n",
    "I <emph>guess</emph> we need the sudo here to sun the docker instance\n",
    "\n",
    "Notice that the horizontal rule is at the same height on each page while the tables do not terminate at equal heights. We can use the template function from tabula to get the terminating heights.\n",
    "\n",
    "\n",
    "## notes:\n",
    "see what is running on docker\n",
    "\n",
    "```console\n",
    ":~$ docker ps -a\n",
    "```\n",
    "\n",
    "kill a running process in the docker shell\n",
    "```console\n",
    ":~$ docker rm pdftk\n",
    "``` "
   ]
  },
  {
   "cell_type": "markdown",
   "metadata": {},
   "source": [
    "# A few more steps"
   ]
  },
  {
   "cell_type": "code",
   "execution_count": 1,
   "metadata": {},
   "outputs": [
    {
     "name": "stderr",
     "output_type": "stream",
     "text": [
      "/usr/lib/python3.6/importlib/_bootstrap.py:219: RuntimeWarning: numpy.dtype size changed, may indicate binary incompatibility. Expected 56, got 52\n",
      "  return f(*args, **kwds)\n",
      "/usr/lib/python3.6/importlib/_bootstrap.py:219: RuntimeWarning: numpy.dtype size changed, may indicate binary incompatibility. Expected 56, got 52\n",
      "  return f(*args, **kwds)\n"
     ]
    }
   ],
   "source": [
    "# page by page stamping\n",
    "import pandas as pd\n",
    "import os\n"
   ]
  },
  {
   "cell_type": "code",
   "execution_count": 2,
   "metadata": {},
   "outputs": [],
   "source": [
    "\n",
    "pgs = pd.read_json('2017_tabula_guesses.json')\n"
   ]
  },
  {
   "cell_type": "code",
   "execution_count": 3,
   "metadata": {},
   "outputs": [
    {
     "data": {
      "text/plain": [
       "Index(['extraction_method', 'height', 'page', 'width', 'x1', 'x2', 'y1', 'y2'], dtype='object')"
      ]
     },
     "execution_count": 3,
     "metadata": {},
     "output_type": "execute_result"
    }
   ],
   "source": [
    "pgs.columns"
   ]
  },
  {
   "cell_type": "code",
   "execution_count": 88,
   "metadata": {},
   "outputs": [],
   "source": [
    "import subprocess\n",
    "\n",
    "for page, height in zip(pgs.page, pgs.y1):\n",
    "#     print(page, height)\n",
    "#     omg too much time spent messing with subprocess\n",
    "    os.system(f'gs -o {page}.pdf  -sDEVICE=pdfwrite -g5950x8420  -sPAPERSIZE=a4  -c \"newpath 84 {height} moveto 510 {height} lineto 0 setgray gsave 2 setlinewidth stroke showpage\"')\n",
    "    os.system(f'sudo pdftk Act2017.pdf stamp {page}.pdf output Act2017.pdf')"
   ]
  },
  {
   "cell_type": "code",
   "execution_count": 78,
   "metadata": {},
   "outputs": [],
   "source": []
  },
  {
   "cell_type": "code",
   "execution_count": 82,
   "metadata": {},
   "outputs": [
    {
     "data": {
      "text/plain": [
       "0"
      ]
     },
     "execution_count": 82,
     "metadata": {},
     "output_type": "execute_result"
    }
   ],
   "source": [
    "h = 700\n",
    "os.system(f'gs -o shit.pdf   -sDEVICE=pdfwrite -c \"newpath 84 {h} moveto 510 {h} lineto gsave stroke\"')"
   ]
  },
  {
   "cell_type": "code",
   "execution_count": 11,
   "metadata": {},
   "outputs": [
    {
     "name": "stdout",
     "output_type": "stream",
     "text": [
      "1\n",
      "2\n",
      "3\n",
      "4\n",
      "5\n"
     ]
    }
   ],
   "source": [
    "os.system(f'pdftk A=blank.pdf cat A A A A A output tmp.pdf')\n",
    "\n",
    "# A = 'blank.pdf'\n",
    "# os.sysetm('cp blank.pdf tmp.pdf')\n",
    "# weird, following will not clobber if file exists\n",
    "# for i in range(1, pgs.iloc[0].page -1):\n",
    "#     os.system(f'pdftk A=blank.pdf cat A A A A A output tmp.pdf')\n",
    "#     print(i)"
   ]
  },
  {
   "cell_type": "code",
   "execution_count": 19,
   "metadata": {},
   "outputs": [
    {
     "name": "stdout",
     "output_type": "stream",
     "text": [
      "7\n",
      "8\n",
      "9\n",
      "10\n",
      "11\n",
      "12\n",
      "13\n",
      "14\n",
      "15\n",
      "16\n",
      "17\n",
      "18\n",
      "19\n"
     ]
    }
   ],
   "source": [
    "for i in pgs.page:\n",
    "    print(i)    \n",
    "    os.system(f'pdftk A=tmp.pdf B={i}.pdf cat A B output tmp1.pdf')\n",
    "    os.system('mv tmp1.pdf tmp.pdf')"
   ]
  },
  {
   "cell_type": "code",
   "execution_count": 18,
   "metadata": {},
   "outputs": [
    {
     "data": {
      "text/plain": [
       "0"
      ]
     },
     "execution_count": 18,
     "metadata": {},
     "output_type": "execute_result"
    }
   ],
   "source": []
  },
  {
   "cell_type": "code",
   "execution_count": null,
   "metadata": {},
   "outputs": [],
   "source": []
  },
  {
   "cell_type": "code",
   "execution_count": null,
   "metadata": {},
   "outputs": [],
   "source": []
  },
  {
   "cell_type": "markdown",
   "metadata": {},
   "source": [
    "### create blank A4 pdf\n",
    "```console\n",
    "echo \"\" | ps2pdf -sPAPERSIZE=a4 - blank.pdf\n",
    "```\n",
    "or\n",
    "```console\n",
    "touch blank.ps;\n",
    "ps2pdf blank.ps blank.pdf;\n",
    "```\n",
    "### concatenate pdf fiels\n",
    "1.pdf and blank.pdf already exists\n",
    "```console\n",
    "pdftk A=1.pdf B=blank.pdf cat A1-end B output 2.pdf\n",
    "```"
   ]
  },
  {
   "cell_type": "code",
   "execution_count": null,
   "metadata": {},
   "outputs": [],
   "source": []
  },
  {
   "cell_type": "markdown",
   "metadata": {},
   "source": [
    "# So now we have a pandas data frame of each schedule as it appears on the pdf of each Act.\n",
    "## I guess I can upload the csv too and link to it here"
   ]
  },
  {
   "cell_type": "code",
   "execution_count": null,
   "metadata": {},
   "outputs": [],
   "source": []
  },
  {
   "cell_type": "markdown",
   "metadata": {},
   "source": []
  },
  {
   "cell_type": "markdown",
   "metadata": {},
   "source": [
    "\n",
    "```console\n",
    "foo@bar:~$ java -jar tabula.jar\n",
    "```"
   ]
  },
  {
   "cell_type": "code",
   "execution_count": 6,
   "metadata": {},
   "outputs": [
    {
     "ename": "ModuleNotFoundError",
     "evalue": "No module named 'PyTables'",
     "output_type": "error",
     "traceback": [
      "\u001b[0;31m---------------------------------------------------------------------------\u001b[0m",
      "\u001b[0;31mModuleNotFoundError\u001b[0m                       Traceback (most recent call last)",
      "\u001b[0;32m<ipython-input-6-af92511fc9ba>\u001b[0m in \u001b[0;36m<module>\u001b[0;34m()\u001b[0m\n\u001b[0;32m----> 1\u001b[0;31m \u001b[0;32mimport\u001b[0m \u001b[0mPyTables\u001b[0m \u001b[0;32mas\u001b[0m \u001b[0mpt\u001b[0m\u001b[0;34m\u001b[0m\u001b[0m\n\u001b[0m",
      "\u001b[0;31mModuleNotFoundError\u001b[0m: No module named 'PyTables'"
     ]
    }
   ],
   "source": [
    "# import PyTables as pt\n",
    "\n",
    "\n",
    "\n",
    "import tabula\n",
    "import os\n",
    "import pandas as pd\n",
    " \n",
    "folder = 'data/pdf/'\n",
    "paths = [folder + fn for fn in os.listdir(folder) if fn.endswith('.pdf')]\n",
    "\n",
    "    df = tabula.read_pdf( encoding = 'latin1', pages = 'all', area = [29.75,43.509,819.613,464.472], nospreadsheet = True)\n",
    "    path = path.replace('pdf', 'csv')\n",
    "    df.to_csv(path, index = False)\n",
    "    "
   ]
  }
 ],
 "metadata": {
  "kernelspec": {
   "display_name": "Python 3",
   "language": "python",
   "name": "python3"
  },
  "language_info": {
   "codemirror_mode": {
    "name": "ipython",
    "version": 3
   },
   "file_extension": ".py",
   "mimetype": "text/x-python",
   "name": "python",
   "nbconvert_exporter": "python",
   "pygments_lexer": "ipython3",
   "version": "3.7.2rc1"
  }
 },
 "nbformat": 4,
 "nbformat_minor": 2
}
